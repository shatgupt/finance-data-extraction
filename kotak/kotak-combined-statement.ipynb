{
 "cells": [
  {
   "cell_type": "code",
   "execution_count": 1,
   "metadata": {},
   "outputs": [],
   "source": [
    "import os\n",
    "\n",
    "# Define constants\n",
    "INPUT_DIR = \"data/input\"\n",
    "OUTPUT_DIR = \"data/output\"\n",
    "INSTITUTION = \"Kotak\"\n",
    "STATEMENT_PASSWORD = \"123\"  # CRN\n",
    "\n",
    "if STATEMENT_PASSWORD == \"123\":\n",
    "    raise Exception(\"Please change password to actual one\")\n",
    "\n",
    "# Ensure output dir exists\n",
    "if not os.path.exists(OUTPUT_DIR):\n",
    "    os.makedirs(OUTPUT_DIR)"
   ]
  },
  {
   "cell_type": "code",
   "execution_count": 2,
   "metadata": {},
   "outputs": [],
   "source": [
    "# load common functions\n",
    "from importlib.machinery import SourceFileLoader\n",
    "\n",
    "common_lib = SourceFileLoader(\"common_lib\", \"../common_lib/common_functions.py\").load_module()\n",
    "\n",
    "from common_lib import *"
   ]
  },
  {
   "cell_type": "code",
   "execution_count": 3,
   "metadata": {},
   "outputs": [],
   "source": [
    "from datetime import datetime\n",
    "\n",
    "def extract_date_old(date_str):\n",
    "    dt_sr = date_str.split(\"Date AsOn \")[-1].strip()\n",
    "    return datetime.strptime(dt_sr, \"%d-%b-%y\").date()\n",
    "\n",
    "def extract_date_new(date_str):\n",
    "    dt_sr = date_str.split(\"Summary of all your assets and liabilities as on\")[-1].strip()\n",
    "    return datetime.strptime(dt_sr, \"%d %b, %Y\").date()"
   ]
  },
  {
   "cell_type": "code",
   "execution_count": 4,
   "metadata": {},
   "outputs": [],
   "source": [
    "import re\n",
    "\n",
    "def extract_balance_old(line):\n",
    "    return float(line.replace(\" (Cr)\", \"\").split(\" \")[-1].strip().replace(\",\", \"\"))\n",
    "\n",
    "def extract_balance_new(line):\n",
    "    regexp = re.compile(r\"Savings Account.*?(\\d+,\\d+\\.\\d+).*Closing balance\")\n",
    "    m = re.match(regexp, line)\n",
    "    if m:\n",
    "        return float(m.group(0).replace(\",\", \"\"))"
   ]
  },
  {
   "cell_type": "code",
   "execution_count": 5,
   "metadata": {},
   "outputs": [],
   "source": [
    "import re\n",
    "\n",
    "def extract_balances(page_text):\n",
    "    output = []\n",
    "    statement_date = None\n",
    "\n",
    "    for line in page_text.splitlines():\n",
    "        type = None\n",
    "        if \"Date AsOn \" in line:\n",
    "            statement_date = extract_date_old(line)\n",
    "            continue\n",
    "        elif \"Summary of all your assets and liabilities as on\" in line:\n",
    "            statement_date = extract_date_new(line)\n",
    "            continue\n",
    "        elif \"Savings Account (s)\" in line or re.search(r\"Closing Balance.*?(\\d+,\\d+\\.\\d+).*\\(Cr\\)\", line):\n",
    "            type = \"Savings\"\n",
    "        elif \"Term Deposit (s)\" in line:\n",
    "            type = \"Deposit\"\n",
    "\n",
    "        if type is not None:\n",
    "            inr_balance = extract_balance_old(line)\n",
    "            output.append(f\"{type},{inr_balance:.2f},,\")\n",
    "\n",
    "    final_output = []\n",
    "    for l in output:\n",
    "        final_output.append(f\"{statement_date.isoformat()},{INSTITUTION},{l}\")\n",
    "    return [statement_date, final_output]"
   ]
  },
  {
   "cell_type": "code",
   "execution_count": 8,
   "metadata": {},
   "outputs": [],
   "source": [
    "def generate_monthly_balances():\n",
    "    pdf_paths = get_all_pdf_paths(INPUT_DIR)\n",
    "    final_output = []\n",
    "\n",
    "    for pdf in pdf_paths:\n",
    "        reader = get_pdf_reader(pdf, STATEMENT_PASSWORD)\n",
    "        statement_date, output = extract_balances(reader.pages[0].extract_text())\n",
    "\n",
    "        if statement_date is None:\n",
    "            print(\"Date not parseable for file \", pdf)\n",
    "            continue\n",
    "        if output is None or len(output) == 0:\n",
    "            print(\"Output not present for date \", statement_date.isoformat(), \" file \", pdf)\n",
    "            continue\n",
    "\n",
    "        final_output += output\n",
    "\n",
    "        output_path = f\"{OUTPUT_DIR}/{INSTITUTION}-Statement_{statement_date.year}-{statement_date.month:02}.pdf\"\n",
    "        write_pdf(reader, output_path)\n",
    "    \n",
    "    return final_output"
   ]
  },
  {
   "cell_type": "code",
   "execution_count": null,
   "metadata": {},
   "outputs": [],
   "source": [
    "output = generate_monthly_balances()\n",
    "output.sort(reverse=True)\n",
    "with open(f\"{OUTPUT_DIR}/{INSTITUTION}-Monthly-Balances.csv\", \"w\") as f:\n",
    "    f.write(\"Date,Institution,Account Type,Balance INR,Balance USD,Comments\\n\")\n",
    "    for line in output:\n",
    "        f.write(f\"{line}\\n\")"
   ]
  }
 ],
 "metadata": {
  "kernelspec": {
   "display_name": "finance_data",
   "language": "python",
   "name": "python3"
  },
  "language_info": {
   "codemirror_mode": {
    "name": "ipython",
    "version": 3
   },
   "file_extension": ".py",
   "mimetype": "text/x-python",
   "name": "python",
   "nbconvert_exporter": "python",
   "pygments_lexer": "ipython3",
   "version": "3.10.8"
  },
  "orig_nbformat": 4,
  "vscode": {
   "interpreter": {
    "hash": "2c01b6799794ae40c8b3a2ca7fb627969ffccaafb6c9dc12d3de063f5644e99a"
   }
  }
 },
 "nbformat": 4,
 "nbformat_minor": 2
}
