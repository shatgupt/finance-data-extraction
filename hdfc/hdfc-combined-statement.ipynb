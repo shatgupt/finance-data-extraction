{
 "cells": [
  {
   "cell_type": "code",
   "execution_count": 13,
   "metadata": {},
   "outputs": [],
   "source": [
    "import os\n",
    "\n",
    "# Define constants\n",
    "INPUT_DIR = \"data/input\"\n",
    "OUTPUT_DIR = \"data/output\"\n",
    "INSTITUTION = \"HDFC\"\n",
    "STATEMENT_PASSWORD = \"123\"  # Customer ID\n",
    "\n",
    "if STATEMENT_PASSWORD == \"123\":\n",
    "    raise Exception(\"Please change password to actual one\")\n",
    "\n",
    "# Ensure output dir exists\n",
    "if not os.path.exists(OUTPUT_DIR):\n",
    "    os.makedirs(OUTPUT_DIR)"
   ]
  },
  {
   "cell_type": "code",
   "execution_count": 24,
   "metadata": {},
   "outputs": [],
   "source": [
    "# load common functions\n",
    "from importlib.machinery import SourceFileLoader\n",
    "\n",
    "common_lib = SourceFileLoader(\"common_lib\", \"../common_lib/common_functions.py\").load_module()\n",
    "\n",
    "from common_lib import *"
   ]
  },
  {
   "cell_type": "code",
   "execution_count": 25,
   "metadata": {},
   "outputs": [],
   "source": [
    "from datetime import datetime\n",
    "\n",
    "def get_filedate(filename):\n",
    "    file_date_str = filename.split(\"/\")[-1].split(\"_\")[2]\n",
    "    return datetime.strptime(file_date_str, \"%d%m%Y\").date()"
   ]
  },
  {
   "cell_type": "code",
   "execution_count": 26,
   "metadata": {},
   "outputs": [],
   "source": [
    "def extract_balance(line):\n",
    "    return float(line.split(\" \")[3])\n",
    "\n",
    "def get_balance(line, date):\n",
    "    balance = extract_balance(line)\n",
    "    usd2inr_rate = ExchangeRate.get_inr_rate(date)\n",
    "    if line.startswith(\"INR\"):\n",
    "        return (balance, balance / usd2inr_rate)\n",
    "    elif line.startswith(\"USD\"):\n",
    "        return (balance * usd2inr_rate, balance)"
   ]
  },
  {
   "cell_type": "code",
   "execution_count": 27,
   "metadata": {},
   "outputs": [],
   "source": [
    "def extract_balances(page_text, file_date, output):\n",
    "    date_str = file_date.isoformat()\n",
    "\n",
    "    for line in page_text.splitlines():\n",
    "        type = None\n",
    "        if line.startswith(\"INR SAVINGS ACCOUNTS \"):\n",
    "            type = \"Savings\"\n",
    "        elif line.startswith(\"INR TERM DEPOSITS \"):\n",
    "            type = \"Deposit\"\n",
    "        elif line.startswith(\"USD TERM DEPOSITS \"):\n",
    "            type = \"FCNR Deposit\"\n",
    "\n",
    "        if type is not None:\n",
    "            inr_balance, usd_balance = get_balance(line, file_date)\n",
    "            entry = f\"{date_str},{INSTITUTION},{type},{inr_balance:.2f},{usd_balance:.2f},\"\n",
    "            output.append(entry)"
   ]
  },
  {
   "cell_type": "code",
   "execution_count": 28,
   "metadata": {},
   "outputs": [],
   "source": [
    "def generate_monthly_balances():\n",
    "    pdf_paths = get_all_pdf_paths(INPUT_DIR)\n",
    "    output = []\n",
    "\n",
    "    for pdf in pdf_paths:\n",
    "        reader = get_pdf_reader(pdf, STATEMENT_PASSWORD)\n",
    "        statement_date = get_filedate(pdf)\n",
    "        extract_balances(reader.pages[0].extract_text(), statement_date, output)\n",
    "\n",
    "        output_path = f\"{OUTPUT_DIR}/{INSTITUTION}-Statement_{statement_date.year}-{statement_date.month:02}.pdf\"\n",
    "        write_pdf(reader, output_path)\n",
    "    \n",
    "    return output"
   ]
  },
  {
   "cell_type": "code",
   "execution_count": 29,
   "metadata": {},
   "outputs": [],
   "source": [
    "output = generate_monthly_balances()\n",
    "output.sort(reverse=True)\n",
    "with open(f\"{OUTPUT_DIR}/{INSTITUTION}-Monthly-Balances.csv\", \"w\") as f:\n",
    "    f.write(\"Date,Institution,Account Type,Balance INR,Balance USD,Comments\\n\")\n",
    "    for line in output:\n",
    "        f.write(f\"{line}\\n\")"
   ]
  }
 ],
 "metadata": {
  "kernelspec": {
   "display_name": "finance_data",
   "language": "python",
   "name": "python3"
  },
  "language_info": {
   "codemirror_mode": {
    "name": "ipython",
    "version": 3
   },
   "file_extension": ".py",
   "mimetype": "text/x-python",
   "name": "python",
   "nbconvert_exporter": "python",
   "pygments_lexer": "ipython3",
   "version": "3.10.8 (main, Nov 22 2022, 20:33:43) [Clang 14.0.0 (clang-1400.0.29.202)]"
  },
  "orig_nbformat": 4,
  "vscode": {
   "interpreter": {
    "hash": "2c01b6799794ae40c8b3a2ca7fb627969ffccaafb6c9dc12d3de063f5644e99a"
   }
  }
 },
 "nbformat": 4,
 "nbformat_minor": 2
}
