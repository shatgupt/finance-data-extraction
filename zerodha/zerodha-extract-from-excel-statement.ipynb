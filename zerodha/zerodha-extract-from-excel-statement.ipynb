{
 "cells": [
  {
   "cell_type": "code",
   "execution_count": 6,
   "metadata": {},
   "outputs": [],
   "source": [
    "import os\n",
    "\n",
    "# Define constants\n",
    "INPUT_DIR = \"data/input\"\n",
    "OUTPUT_DIR = \"data/output\"\n",
    "INSTITUTION = \"Zerodha\"\n",
    "\n",
    "# Ensure output dir exists\n",
    "if not os.path.exists(OUTPUT_DIR):\n",
    "    os.makedirs(OUTPUT_DIR)"
   ]
  },
  {
   "cell_type": "code",
   "execution_count": 11,
   "metadata": {},
   "outputs": [],
   "source": [
    "# load common functions\n",
    "from importlib.machinery import SourceFileLoader\n",
    "\n",
    "common_lib = SourceFileLoader(\"common_lib\", \"../common_lib/common_functions.py\").load_module()\n",
    "\n",
    "from common_lib import *"
   ]
  },
  {
   "cell_type": "code",
   "execution_count": 12,
   "metadata": {},
   "outputs": [],
   "source": [
    "def get_balances(df, holding_type):\n",
    "    date_str = df[holding_type].iloc[9][1].split(\" Holdings Statement as on \")[-1]\n",
    "    return (date_str, df[holding_type].iloc[13][2], df[holding_type].iloc[14][2])\n"
   ]
  },
  {
   "cell_type": "code",
   "execution_count": 13,
   "metadata": {},
   "outputs": [],
   "source": [
    "import pandas as pd\n",
    "from datetime import datetime\n",
    "\n",
    "def get_holdings(filepath):\n",
    "    df = pd.read_excel(filepath, sheet_name=None)\n",
    "    output = {}\n",
    "    for holding_type in [\"Equity\", \"Mutual Funds\"]:\n",
    "        date_str, invested, present = get_balances(df, holding_type)\n",
    "        statement_date = datetime.fromisoformat(date_str).date()\n",
    "        statement_date = get_last_date_of_month(statement_date)\n",
    "        output[holding_type] = {\"date\": statement_date, \"invested\": invested, \"present\": present}\n",
    "    \n",
    "    return output\n"
   ]
  },
  {
   "cell_type": "code",
   "execution_count": 14,
   "metadata": {},
   "outputs": [],
   "source": [
    "def generate_monthly_balances():\n",
    "    all_files = get_all_excel_paths(INPUT_DIR)\n",
    "    all_files.sort(reverse=True)\n",
    "    output = [\"Date,Institution,Account Type,Present Value INR,Invested Value,Present Value USD,Comments\"]\n",
    "\n",
    "    for filepath in all_files:\n",
    "        file_output = []\n",
    "        invalid_file = False\n",
    "\n",
    "        for holding_type, holdings in get_holdings(filepath).items():\n",
    "            if holdings[\"invested\"] == 0 or holdings[\"present\"] == 0:\n",
    "                print(\"Invalid data for date: \", holdings[\"date\"])\n",
    "                invalid_file = True\n",
    "                break\n",
    "\n",
    "            # rate = er.get_inr_rate(holdings[\"date\"])\n",
    "            # file_output.append(f\"{holdings[\"date\"].isoformat()},{INSTITUTION},{holding_type},{holdings[\"invested\"]},{holdings[\"present\"]},{(holdings[\"present\"] / rate):.2f},\")\n",
    "            file_output.append(f\"{holdings['date'].isoformat()},{INSTITUTION},{holding_type},{holdings['present']:.2f},{holdings['invested']:.2f},,\")\n",
    "\n",
    "        if not invalid_file:\n",
    "            output += file_output\n",
    "\n",
    "    return output\n"
   ]
  },
  {
   "cell_type": "code",
   "execution_count": null,
   "metadata": {},
   "outputs": [],
   "source": [
    "output = generate_monthly_balances()\n",
    "with open(f\"{OUTPUT_DIR}/{INSTITUTION}-Monthly-Balances.csv\", \"w\") as f:\n",
    "    for line in output:\n",
    "        f.write(f\"{line}\\n\")"
   ]
  }
 ],
 "metadata": {
  "kernelspec": {
   "display_name": "finance_data",
   "language": "python",
   "name": "python3"
  },
  "language_info": {
   "codemirror_mode": {
    "name": "ipython",
    "version": 3
   },
   "file_extension": ".py",
   "mimetype": "text/x-python",
   "name": "python",
   "nbconvert_exporter": "python",
   "pygments_lexer": "ipython3",
   "version": "3.10.8"
  },
  "orig_nbformat": 4,
  "vscode": {
   "interpreter": {
    "hash": "2c01b6799794ae40c8b3a2ca7fb627969ffccaafb6c9dc12d3de063f5644e99a"
   }
  }
 },
 "nbformat": 4,
 "nbformat_minor": 2
}
