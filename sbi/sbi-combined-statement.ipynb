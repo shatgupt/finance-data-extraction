{
 "cells": [
  {
   "cell_type": "code",
   "execution_count": 2,
   "metadata": {},
   "outputs": [],
   "source": [
    "import os\n",
    "\n",
    "# Define constants\n",
    "INPUT_DIR = \"data/input\"\n",
    "OUTPUT_DIR = \"data/output\"\n",
    "INSTITUTION = \"SBI\"\n",
    "STATEMENT_PASSWORD = \"123\"  # Last 5 digits of mobile + birth-date in DDMMYY format\n",
    "\n",
    "if STATEMENT_PASSWORD == \"123\":\n",
    "    raise Exception(\"Please change password to actual one\")\n",
    "\n",
    "# Ensure output dir exists\n",
    "if not os.path.exists(OUTPUT_DIR):\n",
    "    os.makedirs(OUTPUT_DIR)"
   ]
  },
  {
   "cell_type": "code",
   "execution_count": 3,
   "metadata": {},
   "outputs": [],
   "source": [
    "# load common functions\n",
    "from importlib.machinery import SourceFileLoader\n",
    "\n",
    "common_lib = SourceFileLoader(\"common_lib\", \"../common_lib/common_functions.py\").load_module()\n",
    "\n",
    "from common_lib import *"
   ]
  },
  {
   "cell_type": "code",
   "execution_count": 4,
   "metadata": {},
   "outputs": [],
   "source": [
    "from datetime import datetime\n",
    "\n",
    "def extract_date(date_str):\n",
    "    dt_sr = date_str.split(\"As on \")[-1].strip() # As on 30-04-22\n",
    "    return datetime.strptime(dt_sr, \"%d-%m-%y\").date()"
   ]
  },
  {
   "cell_type": "code",
   "execution_count": 5,
   "metadata": {},
   "outputs": [],
   "source": [
    "import re\n",
    "\n",
    "def extract_balance(line):\n",
    "    results = re.findall(r\"\\d+\\.\\d{2}\", line) # 18871.99\n",
    "    return float(results[0])"
   ]
  },
  {
   "cell_type": "code",
   "execution_count": 6,
   "metadata": {},
   "outputs": [],
   "source": [
    "import re\n",
    "\n",
    "def extract_balances(page_text):\n",
    "    output = []\n",
    "    statement_date = None\n",
    "\n",
    "    for line in page_text.splitlines():\n",
    "        type = None\n",
    "        if line.startswith(\"As on \"):\n",
    "            statement_date = extract_date(line)\n",
    "            continue\n",
    "        elif line.startswith(\"SAVING ACCOUNT INR \"):\n",
    "            type = \"Savings\"\n",
    "        elif line.startswith(\"TERM DEPOSIT INR \"):\n",
    "            type = \"Deposit\"\n",
    "        elif line.startswith(\"PPF INR \"):\n",
    "            type = \"PPF\"\n",
    "\n",
    "        if type is not None:\n",
    "            inr_balance = extract_balance(line)\n",
    "            output.append(f\"{type},{inr_balance:.2f},,\")\n",
    "\n",
    "    final_output = []\n",
    "    for l in output:\n",
    "        final_output.append(f\"{statement_date.isoformat()},{INSTITUTION},{l}\")\n",
    "    return [statement_date, final_output]"
   ]
  },
  {
   "cell_type": "code",
   "execution_count": 11,
   "metadata": {},
   "outputs": [],
   "source": [
    "def generate_monthly_balances():\n",
    "    pdf_paths = get_all_pdf_paths(INPUT_DIR)\n",
    "    final_output = []\n",
    "\n",
    "    for pdf in pdf_paths:\n",
    "        reader = get_pdf_reader(pdf, STATEMENT_PASSWORD)\n",
    "        statement_date, output = extract_balances(reader.pages[0].extract_text())\n",
    "\n",
    "        if statement_date is None:\n",
    "            print(\"Date not parseable for file \", pdf)\n",
    "            continue\n",
    "        if output is None or len(output) == 0:\n",
    "            print(\"Output not present for date \", statement_date.isoformat(), \" file \", pdf)\n",
    "            continue\n",
    "\n",
    "        final_output += output\n",
    "\n",
    "        output_path = f\"{OUTPUT_DIR}/{INSTITUTION}-Statement_{statement_date.year}-{statement_date.month:02}.pdf\"\n",
    "        write_pdf(reader, output_path)\n",
    "    \n",
    "    return final_output"
   ]
  },
  {
   "cell_type": "code",
   "execution_count": 12,
   "metadata": {},
   "outputs": [],
   "source": [
    "output = generate_monthly_balances()\n",
    "output = list(set(output)) # remove duplicates\n",
    "output.sort(reverse=True)\n",
    "with open(f\"{OUTPUT_DIR}/{INSTITUTION}-Monthly-Balances.csv\", \"w\") as f:\n",
    "    f.write(\"Date,Institution,Account Type,Balance INR,Balance USD,Comments\\n\")\n",
    "    for line in output:\n",
    "        f.write(f\"{line}\\n\")"
   ]
  }
 ],
 "metadata": {
  "kernelspec": {
   "display_name": "finance_data",
   "language": "python",
   "name": "python3"
  },
  "language_info": {
   "codemirror_mode": {
    "name": "ipython",
    "version": 3
   },
   "file_extension": ".py",
   "mimetype": "text/x-python",
   "name": "python",
   "nbconvert_exporter": "python",
   "pygments_lexer": "ipython3",
   "version": "3.10.8"
  },
  "orig_nbformat": 4,
  "vscode": {
   "interpreter": {
    "hash": "2c01b6799794ae40c8b3a2ca7fb627969ffccaafb6c9dc12d3de063f5644e99a"
   }
  }
 },
 "nbformat": 4,
 "nbformat_minor": 2
}
